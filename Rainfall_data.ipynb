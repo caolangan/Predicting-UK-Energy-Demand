{
 "cells": [
  {
   "cell_type": "code",
   "execution_count": 1,
   "metadata": {},
   "outputs": [],
   "source": [
    "import re\n",
    "import math \n",
    "import numpy as np\n",
    "import pandas as pd\n",
    "from datetime import datetime, date\n",
    "import matplotlib.pyplot as plt\n",
    "import seaborn as sns \n",
    "import xarray as xr\n",
    "import csv "
   ]
  },
  {
   "cell_type": "code",
   "execution_count": 2,
   "metadata": {},
   "outputs": [],
   "source": [
    "# Import NC File \n",
    "ds_rainfall = xr.open_dataset(r'C:\\Users\\Admin\\Downloads\\rainfall_hadukgrid_uk_region_day_18910101-20191231.nc')"
   ]
  },
  {
   "cell_type": "code",
   "execution_count": 3,
   "metadata": {},
   "outputs": [],
   "source": [
    "df = ds_rainfall.to_dataframe()"
   ]
  },
  {
   "cell_type": "code",
   "execution_count": 4,
   "metadata": {},
   "outputs": [
    {
     "name": "stdout",
     "output_type": "stream",
     "text": [
      "<class 'pandas.core.frame.DataFrame'>\n",
      "MultiIndex: 1507712 entries, (0, 1, Timestamp('1891-01-01 12:00:00')) to (1, 16, Timestamp('2019-12-31 12:00:00'))\n",
      "Data columns (total 3 columns):\n",
      " #   Column      Non-Null Count    Dtype         \n",
      "---  ------      --------------    -----         \n",
      " 0   rainfall    1507712 non-null  float64       \n",
      " 1   time_bnds   1507712 non-null  datetime64[ns]\n",
      " 2   geo_region  1507712 non-null  object        \n",
      "dtypes: datetime64[ns](1), float64(1), object(1)\n",
      "memory usage: 44.7+ MB\n"
     ]
    }
   ],
   "source": [
    "df.info()"
   ]
  },
  {
   "cell_type": "code",
   "execution_count": 5,
   "metadata": {
    "scrolled": true
   },
   "outputs": [
    {
     "data": {
      "text/html": [
       "<div>\n",
       "<style scoped>\n",
       "    .dataframe tbody tr th:only-of-type {\n",
       "        vertical-align: middle;\n",
       "    }\n",
       "\n",
       "    .dataframe tbody tr th {\n",
       "        vertical-align: top;\n",
       "    }\n",
       "\n",
       "    .dataframe thead th {\n",
       "        text-align: right;\n",
       "    }\n",
       "</style>\n",
       "<table border=\"1\" class=\"dataframe\">\n",
       "  <thead>\n",
       "    <tr style=\"text-align: right;\">\n",
       "      <th></th>\n",
       "      <th></th>\n",
       "      <th></th>\n",
       "      <th>rainfall</th>\n",
       "      <th>time_bnds</th>\n",
       "      <th>geo_region</th>\n",
       "    </tr>\n",
       "    <tr>\n",
       "      <th>bnds</th>\n",
       "      <th>region</th>\n",
       "      <th>time</th>\n",
       "      <th></th>\n",
       "      <th></th>\n",
       "      <th></th>\n",
       "    </tr>\n",
       "  </thead>\n",
       "  <tbody>\n",
       "    <tr>\n",
       "      <th rowspan=\"5\" valign=\"top\">0</th>\n",
       "      <th rowspan=\"5\" valign=\"top\">1</th>\n",
       "      <th>1891-01-01 12:00:00</th>\n",
       "      <td>0.038207</td>\n",
       "      <td>1891-01-01 09:00:00</td>\n",
       "      <td>b'East Midlands             '</td>\n",
       "    </tr>\n",
       "    <tr>\n",
       "      <th>1891-01-02 12:00:00</th>\n",
       "      <td>0.007511</td>\n",
       "      <td>1891-01-02 09:00:00</td>\n",
       "      <td>b'East Midlands             '</td>\n",
       "    </tr>\n",
       "    <tr>\n",
       "      <th>1891-01-03 12:00:00</th>\n",
       "      <td>1.232766</td>\n",
       "      <td>1891-01-03 09:00:00</td>\n",
       "      <td>b'East Midlands             '</td>\n",
       "    </tr>\n",
       "    <tr>\n",
       "      <th>1891-01-04 12:00:00</th>\n",
       "      <td>0.391685</td>\n",
       "      <td>1891-01-04 09:00:00</td>\n",
       "      <td>b'East Midlands             '</td>\n",
       "    </tr>\n",
       "    <tr>\n",
       "      <th>1891-01-05 12:00:00</th>\n",
       "      <td>0.119878</td>\n",
       "      <td>1891-01-05 09:00:00</td>\n",
       "      <td>b'East Midlands             '</td>\n",
       "    </tr>\n",
       "  </tbody>\n",
       "</table>\n",
       "</div>"
      ],
      "text/plain": [
       "                                 rainfall           time_bnds  \\\n",
       "bnds region time                                                \n",
       "0    1      1891-01-01 12:00:00  0.038207 1891-01-01 09:00:00   \n",
       "            1891-01-02 12:00:00  0.007511 1891-01-02 09:00:00   \n",
       "            1891-01-03 12:00:00  1.232766 1891-01-03 09:00:00   \n",
       "            1891-01-04 12:00:00  0.391685 1891-01-04 09:00:00   \n",
       "            1891-01-05 12:00:00  0.119878 1891-01-05 09:00:00   \n",
       "\n",
       "                                                    geo_region  \n",
       "bnds region time                                                \n",
       "0    1      1891-01-01 12:00:00  b'East Midlands             '  \n",
       "            1891-01-02 12:00:00  b'East Midlands             '  \n",
       "            1891-01-03 12:00:00  b'East Midlands             '  \n",
       "            1891-01-04 12:00:00  b'East Midlands             '  \n",
       "            1891-01-05 12:00:00  b'East Midlands             '  "
      ]
     },
     "execution_count": 5,
     "metadata": {},
     "output_type": "execute_result"
    }
   ],
   "source": [
    "df.head()"
   ]
  },
  {
   "cell_type": "code",
   "execution_count": 6,
   "metadata": {},
   "outputs": [
    {
     "data": {
      "text/plain": [
       "b'South West England        '    0.0625\n",
       "b'Northern Ireland          '    0.0625\n",
       "b'Isle of Man               '    0.0625\n",
       "b'East Scotland             '    0.0625\n",
       "b'North West England        '    0.0625\n",
       "b'Channel Islands           '    0.0625\n",
       "b'Wales                     '    0.0625\n",
       "b'South East England        '    0.0625\n",
       "b'East of England           '    0.0625\n",
       "b'East Midlands             '    0.0625\n",
       "b'Yorkshire and Humber      '    0.0625\n",
       "b'London                    '    0.0625\n",
       "b'West Midlands             '    0.0625\n",
       "b'North East England        '    0.0625\n",
       "b'West Scotland             '    0.0625\n",
       "b'North Scotland            '    0.0625\n",
       "Name: geo_region, dtype: float64"
      ]
     },
     "execution_count": 6,
     "metadata": {},
     "output_type": "execute_result"
    }
   ],
   "source": [
    "df.geo_region.value_counts(normalize=True)"
   ]
  },
  {
   "cell_type": "code",
   "execution_count": 7,
   "metadata": {},
   "outputs": [
    {
     "data": {
      "text/html": [
       "<div>\n",
       "<style scoped>\n",
       "    .dataframe tbody tr th:only-of-type {\n",
       "        vertical-align: middle;\n",
       "    }\n",
       "\n",
       "    .dataframe tbody tr th {\n",
       "        vertical-align: top;\n",
       "    }\n",
       "\n",
       "    .dataframe thead th {\n",
       "        text-align: right;\n",
       "    }\n",
       "</style>\n",
       "<table border=\"1\" class=\"dataframe\">\n",
       "  <thead>\n",
       "    <tr style=\"text-align: right;\">\n",
       "      <th></th>\n",
       "      <th></th>\n",
       "      <th></th>\n",
       "      <th>rainfall</th>\n",
       "      <th>time_bnds</th>\n",
       "      <th>geo_region</th>\n",
       "    </tr>\n",
       "    <tr>\n",
       "      <th>bnds</th>\n",
       "      <th>region</th>\n",
       "      <th>time</th>\n",
       "      <th></th>\n",
       "      <th></th>\n",
       "      <th></th>\n",
       "    </tr>\n",
       "  </thead>\n",
       "  <tbody>\n",
       "    <tr>\n",
       "      <th rowspan=\"5\" valign=\"top\">0</th>\n",
       "      <th rowspan=\"5\" valign=\"top\">1</th>\n",
       "      <th>1891-01-01 12:00:00</th>\n",
       "      <td>0.038207</td>\n",
       "      <td>1891-01-01 09:00:00</td>\n",
       "      <td>b'East Midlands             '</td>\n",
       "    </tr>\n",
       "    <tr>\n",
       "      <th>1891-01-02 12:00:00</th>\n",
       "      <td>0.007511</td>\n",
       "      <td>1891-01-02 09:00:00</td>\n",
       "      <td>b'East Midlands             '</td>\n",
       "    </tr>\n",
       "    <tr>\n",
       "      <th>1891-01-03 12:00:00</th>\n",
       "      <td>1.232766</td>\n",
       "      <td>1891-01-03 09:00:00</td>\n",
       "      <td>b'East Midlands             '</td>\n",
       "    </tr>\n",
       "    <tr>\n",
       "      <th>1891-01-04 12:00:00</th>\n",
       "      <td>0.391685</td>\n",
       "      <td>1891-01-04 09:00:00</td>\n",
       "      <td>b'East Midlands             '</td>\n",
       "    </tr>\n",
       "    <tr>\n",
       "      <th>1891-01-05 12:00:00</th>\n",
       "      <td>0.119878</td>\n",
       "      <td>1891-01-05 09:00:00</td>\n",
       "      <td>b'East Midlands             '</td>\n",
       "    </tr>\n",
       "  </tbody>\n",
       "</table>\n",
       "</div>"
      ],
      "text/plain": [
       "                                 rainfall           time_bnds  \\\n",
       "bnds region time                                                \n",
       "0    1      1891-01-01 12:00:00  0.038207 1891-01-01 09:00:00   \n",
       "            1891-01-02 12:00:00  0.007511 1891-01-02 09:00:00   \n",
       "            1891-01-03 12:00:00  1.232766 1891-01-03 09:00:00   \n",
       "            1891-01-04 12:00:00  0.391685 1891-01-04 09:00:00   \n",
       "            1891-01-05 12:00:00  0.119878 1891-01-05 09:00:00   \n",
       "\n",
       "                                                    geo_region  \n",
       "bnds region time                                                \n",
       "0    1      1891-01-01 12:00:00  b'East Midlands             '  \n",
       "            1891-01-02 12:00:00  b'East Midlands             '  \n",
       "            1891-01-03 12:00:00  b'East Midlands             '  \n",
       "            1891-01-04 12:00:00  b'East Midlands             '  \n",
       "            1891-01-05 12:00:00  b'East Midlands             '  "
      ]
     },
     "execution_count": 7,
     "metadata": {},
     "output_type": "execute_result"
    }
   ],
   "source": [
    "df.head()"
   ]
  },
  {
   "cell_type": "code",
   "execution_count": 8,
   "metadata": {},
   "outputs": [
    {
     "data": {
      "text/plain": [
       "MultiIndex([(0,  1, '1891-01-01 12:00:00'),\n",
       "            (0,  1, '1891-01-02 12:00:00'),\n",
       "            (0,  1, '1891-01-03 12:00:00'),\n",
       "            (0,  1, '1891-01-04 12:00:00'),\n",
       "            (0,  1, '1891-01-05 12:00:00'),\n",
       "            (0,  1, '1891-01-06 12:00:00'),\n",
       "            (0,  1, '1891-01-07 12:00:00'),\n",
       "            (0,  1, '1891-01-08 12:00:00'),\n",
       "            (0,  1, '1891-01-09 12:00:00'),\n",
       "            (0,  1, '1891-01-10 12:00:00'),\n",
       "            ...\n",
       "            (1, 16, '2019-12-22 12:00:00'),\n",
       "            (1, 16, '2019-12-23 12:00:00'),\n",
       "            (1, 16, '2019-12-24 12:00:00'),\n",
       "            (1, 16, '2019-12-25 12:00:00'),\n",
       "            (1, 16, '2019-12-26 12:00:00'),\n",
       "            (1, 16, '2019-12-27 12:00:00'),\n",
       "            (1, 16, '2019-12-28 12:00:00'),\n",
       "            (1, 16, '2019-12-29 12:00:00'),\n",
       "            (1, 16, '2019-12-30 12:00:00'),\n",
       "            (1, 16, '2019-12-31 12:00:00')],\n",
       "           names=['bnds', 'region', 'time'], length=1507712)"
      ]
     },
     "execution_count": 8,
     "metadata": {},
     "output_type": "execute_result"
    }
   ],
   "source": [
    "df.index"
   ]
  },
  {
   "cell_type": "code",
   "execution_count": 9,
   "metadata": {},
   "outputs": [],
   "source": [
    "df_to_clean = df.copy()"
   ]
  },
  {
   "cell_type": "code",
   "execution_count": 10,
   "metadata": {},
   "outputs": [
    {
     "data": {
      "text/html": [
       "<div>\n",
       "<style scoped>\n",
       "    .dataframe tbody tr th:only-of-type {\n",
       "        vertical-align: middle;\n",
       "    }\n",
       "\n",
       "    .dataframe tbody tr th {\n",
       "        vertical-align: top;\n",
       "    }\n",
       "\n",
       "    .dataframe thead th {\n",
       "        text-align: right;\n",
       "    }\n",
       "</style>\n",
       "<table border=\"1\" class=\"dataframe\">\n",
       "  <thead>\n",
       "    <tr style=\"text-align: right;\">\n",
       "      <th></th>\n",
       "      <th>rainfall</th>\n",
       "      <th>time_bnds</th>\n",
       "      <th>geo_region</th>\n",
       "    </tr>\n",
       "    <tr>\n",
       "      <th>region</th>\n",
       "      <th></th>\n",
       "      <th></th>\n",
       "      <th></th>\n",
       "    </tr>\n",
       "  </thead>\n",
       "  <tbody>\n",
       "    <tr>\n",
       "      <th>1</th>\n",
       "      <td>5.662655e+01</td>\n",
       "      <td>2020-01-01 09:00:00</td>\n",
       "      <td>b'East Midlands             '</td>\n",
       "    </tr>\n",
       "    <tr>\n",
       "      <th>2</th>\n",
       "      <td>6.017456e+01</td>\n",
       "      <td>2020-01-01 09:00:00</td>\n",
       "      <td>b'East of England           '</td>\n",
       "    </tr>\n",
       "    <tr>\n",
       "      <th>3</th>\n",
       "      <td>5.934569e+01</td>\n",
       "      <td>2020-01-01 09:00:00</td>\n",
       "      <td>b'East Scotland             '</td>\n",
       "    </tr>\n",
       "    <tr>\n",
       "      <th>4</th>\n",
       "      <td>5.233701e+01</td>\n",
       "      <td>2020-01-01 09:00:00</td>\n",
       "      <td>b'London                    '</td>\n",
       "    </tr>\n",
       "    <tr>\n",
       "      <th>5</th>\n",
       "      <td>6.341171e+01</td>\n",
       "      <td>2020-01-01 09:00:00</td>\n",
       "      <td>b'North East England        '</td>\n",
       "    </tr>\n",
       "    <tr>\n",
       "      <th>6</th>\n",
       "      <td>5.744903e+01</td>\n",
       "      <td>2020-01-01 09:00:00</td>\n",
       "      <td>b'North Scotland            '</td>\n",
       "    </tr>\n",
       "    <tr>\n",
       "      <th>7</th>\n",
       "      <td>5.090666e+01</td>\n",
       "      <td>2020-01-01 09:00:00</td>\n",
       "      <td>b'North West England        '</td>\n",
       "    </tr>\n",
       "    <tr>\n",
       "      <th>8</th>\n",
       "      <td>4.200139e+01</td>\n",
       "      <td>2020-01-01 09:00:00</td>\n",
       "      <td>b'South East England        '</td>\n",
       "    </tr>\n",
       "    <tr>\n",
       "      <th>9</th>\n",
       "      <td>7.169019e+01</td>\n",
       "      <td>2020-01-01 09:00:00</td>\n",
       "      <td>b'South West England        '</td>\n",
       "    </tr>\n",
       "    <tr>\n",
       "      <th>10</th>\n",
       "      <td>5.217256e+01</td>\n",
       "      <td>2020-01-01 09:00:00</td>\n",
       "      <td>b'West Midlands             '</td>\n",
       "    </tr>\n",
       "    <tr>\n",
       "      <th>11</th>\n",
       "      <td>5.096101e+01</td>\n",
       "      <td>2020-01-01 09:00:00</td>\n",
       "      <td>b'West Scotland             '</td>\n",
       "    </tr>\n",
       "    <tr>\n",
       "      <th>12</th>\n",
       "      <td>5.402036e+01</td>\n",
       "      <td>2020-01-01 09:00:00</td>\n",
       "      <td>b'Yorkshire and Humber      '</td>\n",
       "    </tr>\n",
       "    <tr>\n",
       "      <th>13</th>\n",
       "      <td>9.969210e+36</td>\n",
       "      <td>2020-01-01 09:00:00</td>\n",
       "      <td>b'Channel Islands           '</td>\n",
       "    </tr>\n",
       "    <tr>\n",
       "      <th>14</th>\n",
       "      <td>1.346512e+02</td>\n",
       "      <td>2020-01-01 09:00:00</td>\n",
       "      <td>b'Isle of Man               '</td>\n",
       "    </tr>\n",
       "    <tr>\n",
       "      <th>15</th>\n",
       "      <td>7.009085e+01</td>\n",
       "      <td>2020-01-01 09:00:00</td>\n",
       "      <td>b'Northern Ireland          '</td>\n",
       "    </tr>\n",
       "    <tr>\n",
       "      <th>16</th>\n",
       "      <td>6.793209e+01</td>\n",
       "      <td>2020-01-01 09:00:00</td>\n",
       "      <td>b'Wales                     '</td>\n",
       "    </tr>\n",
       "  </tbody>\n",
       "</table>\n",
       "</div>"
      ],
      "text/plain": [
       "            rainfall           time_bnds                     geo_region\n",
       "region                                                                 \n",
       "1       5.662655e+01 2020-01-01 09:00:00  b'East Midlands             '\n",
       "2       6.017456e+01 2020-01-01 09:00:00  b'East of England           '\n",
       "3       5.934569e+01 2020-01-01 09:00:00  b'East Scotland             '\n",
       "4       5.233701e+01 2020-01-01 09:00:00  b'London                    '\n",
       "5       6.341171e+01 2020-01-01 09:00:00  b'North East England        '\n",
       "6       5.744903e+01 2020-01-01 09:00:00  b'North Scotland            '\n",
       "7       5.090666e+01 2020-01-01 09:00:00  b'North West England        '\n",
       "8       4.200139e+01 2020-01-01 09:00:00  b'South East England        '\n",
       "9       7.169019e+01 2020-01-01 09:00:00  b'South West England        '\n",
       "10      5.217256e+01 2020-01-01 09:00:00  b'West Midlands             '\n",
       "11      5.096101e+01 2020-01-01 09:00:00  b'West Scotland             '\n",
       "12      5.402036e+01 2020-01-01 09:00:00  b'Yorkshire and Humber      '\n",
       "13      9.969210e+36 2020-01-01 09:00:00  b'Channel Islands           '\n",
       "14      1.346512e+02 2020-01-01 09:00:00  b'Isle of Man               '\n",
       "15      7.009085e+01 2020-01-01 09:00:00  b'Northern Ireland          '\n",
       "16      6.793209e+01 2020-01-01 09:00:00  b'Wales                     '"
      ]
     },
     "execution_count": 10,
     "metadata": {},
     "output_type": "execute_result"
    }
   ],
   "source": [
    "df.groupby('region').max() #to see what regions numbers equate to region names"
   ]
  },
  {
   "cell_type": "code",
   "execution_count": 11,
   "metadata": {},
   "outputs": [
    {
     "data": {
      "text/plain": [
       "[b'East Midlands             ',\n",
       " b'East of England           ',\n",
       " b'East Scotland             ',\n",
       " b'London                    ',\n",
       " b'North East England        ',\n",
       " b'North Scotland            ',\n",
       " b'North West England        ',\n",
       " b'South East England        ',\n",
       " b'South West England        ',\n",
       " b'West Midlands             ',\n",
       " b'West Scotland             ',\n",
       " b'Yorkshire and Humber      ',\n",
       " b'Channel Islands           ',\n",
       " b'Isle of Man               ',\n",
       " b'Northern Ireland          ',\n",
       " b'Wales                     ']"
      ]
     },
     "execution_count": 11,
     "metadata": {},
     "output_type": "execute_result"
    }
   ],
   "source": [
    "list(df.groupby('region').max().geo_region) "
   ]
  },
  {
   "cell_type": "code",
   "execution_count": 12,
   "metadata": {},
   "outputs": [],
   "source": [
    "#Cleaning the column names \n",
    "clean_col_names = []\n",
    "for name in list(df.groupby('region').max().geo_region):\n",
    "    name_to_search = str(name)\n",
    "    pattern = re.compile(r\"([A-Z]\\w+((\\s[A-Z]\\w+){1,3}|\\sof\\s[A-Z]\\w+|\\sand\\s[A-Z]\\w+|\\s))\")\n",
    "    match_object = re.search(pattern,name_to_search[1:]) #Returns match object Indexed string to ignore the \"b'\"\n",
    "    clean_col_names.append(match_object.group(0))\n"
   ]
  },
  {
   "cell_type": "code",
   "execution_count": 13,
   "metadata": {},
   "outputs": [
    {
     "data": {
      "text/plain": [
       "['East Midlands',\n",
       " 'East of England',\n",
       " 'East Scotland',\n",
       " 'London ',\n",
       " 'North East England',\n",
       " 'North Scotland',\n",
       " 'North West England',\n",
       " 'South East England',\n",
       " 'South West England',\n",
       " 'West Midlands',\n",
       " 'West Scotland',\n",
       " 'Yorkshire and Humber',\n",
       " 'Channel Islands',\n",
       " 'Isle of Man',\n",
       " 'Northern Ireland',\n",
       " 'Wales ']"
      ]
     },
     "execution_count": 13,
     "metadata": {},
     "output_type": "execute_result"
    }
   ],
   "source": [
    "clean_col_names"
   ]
  },
  {
   "cell_type": "code",
   "execution_count": 14,
   "metadata": {},
   "outputs": [],
   "source": [
    "regions = list(df.groupby('region').max().index)\n",
    "region_names = list(df.groupby('region').max().geo_region)\n",
    "rename_dict = {region: str(name) for region,name in zip(regions,region_names)}"
   ]
  },
  {
   "cell_type": "code",
   "execution_count": 15,
   "metadata": {},
   "outputs": [
    {
     "data": {
      "text/plain": [
       "\"b'East Midlands             '\""
      ]
     },
     "execution_count": 15,
     "metadata": {},
     "output_type": "execute_result"
    }
   ],
   "source": [
    "rename_dict[1]"
   ]
  },
  {
   "cell_type": "code",
   "execution_count": 16,
   "metadata": {},
   "outputs": [
    {
     "data": {
      "text/html": [
       "<div>\n",
       "<style scoped>\n",
       "    .dataframe tbody tr th:only-of-type {\n",
       "        vertical-align: middle;\n",
       "    }\n",
       "\n",
       "    .dataframe tbody tr th {\n",
       "        vertical-align: top;\n",
       "    }\n",
       "\n",
       "    .dataframe thead tr th {\n",
       "        text-align: left;\n",
       "    }\n",
       "\n",
       "    .dataframe thead tr:last-of-type th {\n",
       "        text-align: right;\n",
       "    }\n",
       "</style>\n",
       "<table border=\"1\" class=\"dataframe\">\n",
       "  <thead>\n",
       "    <tr>\n",
       "      <th></th>\n",
       "      <th></th>\n",
       "      <th colspan=\"10\" halign=\"left\">rainfall</th>\n",
       "      <th>...</th>\n",
       "      <th colspan=\"10\" halign=\"left\">geo_region</th>\n",
       "    </tr>\n",
       "    <tr>\n",
       "      <th></th>\n",
       "      <th>region</th>\n",
       "      <th>1</th>\n",
       "      <th>2</th>\n",
       "      <th>3</th>\n",
       "      <th>4</th>\n",
       "      <th>5</th>\n",
       "      <th>6</th>\n",
       "      <th>7</th>\n",
       "      <th>8</th>\n",
       "      <th>9</th>\n",
       "      <th>10</th>\n",
       "      <th>...</th>\n",
       "      <th>7</th>\n",
       "      <th>8</th>\n",
       "      <th>9</th>\n",
       "      <th>10</th>\n",
       "      <th>11</th>\n",
       "      <th>12</th>\n",
       "      <th>13</th>\n",
       "      <th>14</th>\n",
       "      <th>15</th>\n",
       "      <th>16</th>\n",
       "    </tr>\n",
       "    <tr>\n",
       "      <th>bnds</th>\n",
       "      <th>time</th>\n",
       "      <th></th>\n",
       "      <th></th>\n",
       "      <th></th>\n",
       "      <th></th>\n",
       "      <th></th>\n",
       "      <th></th>\n",
       "      <th></th>\n",
       "      <th></th>\n",
       "      <th></th>\n",
       "      <th></th>\n",
       "      <th></th>\n",
       "      <th></th>\n",
       "      <th></th>\n",
       "      <th></th>\n",
       "      <th></th>\n",
       "      <th></th>\n",
       "      <th></th>\n",
       "      <th></th>\n",
       "      <th></th>\n",
       "      <th></th>\n",
       "      <th></th>\n",
       "    </tr>\n",
       "  </thead>\n",
       "  <tbody>\n",
       "    <tr>\n",
       "      <th rowspan=\"5\" valign=\"top\">0</th>\n",
       "      <th>1891-01-01 12:00:00</th>\n",
       "      <td>0.038207</td>\n",
       "      <td>0.062382</td>\n",
       "      <td>0.673353</td>\n",
       "      <td>0.015701</td>\n",
       "      <td>0.002181</td>\n",
       "      <td>0.992063</td>\n",
       "      <td>0.037144</td>\n",
       "      <td>0.340072</td>\n",
       "      <td>0.085441</td>\n",
       "      <td>0.009921</td>\n",
       "      <td>...</td>\n",
       "      <td>b'North West England        '</td>\n",
       "      <td>b'South East England        '</td>\n",
       "      <td>b'South West England        '</td>\n",
       "      <td>b'West Midlands             '</td>\n",
       "      <td>b'West Scotland             '</td>\n",
       "      <td>b'Yorkshire and Humber      '</td>\n",
       "      <td>b'Channel Islands           '</td>\n",
       "      <td>b'Isle of Man               '</td>\n",
       "      <td>b'Northern Ireland          '</td>\n",
       "      <td>b'Wales                     '</td>\n",
       "    </tr>\n",
       "    <tr>\n",
       "      <th>1891-01-02 12:00:00</th>\n",
       "      <td>0.007511</td>\n",
       "      <td>0.000349</td>\n",
       "      <td>0.748390</td>\n",
       "      <td>0.000024</td>\n",
       "      <td>1.680578</td>\n",
       "      <td>0.689566</td>\n",
       "      <td>0.812118</td>\n",
       "      <td>0.058602</td>\n",
       "      <td>0.727717</td>\n",
       "      <td>0.068994</td>\n",
       "      <td>...</td>\n",
       "      <td>b'North West England        '</td>\n",
       "      <td>b'South East England        '</td>\n",
       "      <td>b'South West England        '</td>\n",
       "      <td>b'West Midlands             '</td>\n",
       "      <td>b'West Scotland             '</td>\n",
       "      <td>b'Yorkshire and Humber      '</td>\n",
       "      <td>b'Channel Islands           '</td>\n",
       "      <td>b'Isle of Man               '</td>\n",
       "      <td>b'Northern Ireland          '</td>\n",
       "      <td>b'Wales                     '</td>\n",
       "    </tr>\n",
       "    <tr>\n",
       "      <th>1891-01-03 12:00:00</th>\n",
       "      <td>1.232766</td>\n",
       "      <td>1.738081</td>\n",
       "      <td>2.423451</td>\n",
       "      <td>1.926087</td>\n",
       "      <td>1.614585</td>\n",
       "      <td>2.943856</td>\n",
       "      <td>1.869059</td>\n",
       "      <td>2.326119</td>\n",
       "      <td>1.971196</td>\n",
       "      <td>1.495874</td>\n",
       "      <td>...</td>\n",
       "      <td>b'North West England        '</td>\n",
       "      <td>b'South East England        '</td>\n",
       "      <td>b'South West England        '</td>\n",
       "      <td>b'West Midlands             '</td>\n",
       "      <td>b'West Scotland             '</td>\n",
       "      <td>b'Yorkshire and Humber      '</td>\n",
       "      <td>b'Channel Islands           '</td>\n",
       "      <td>b'Isle of Man               '</td>\n",
       "      <td>b'Northern Ireland          '</td>\n",
       "      <td>b'Wales                     '</td>\n",
       "    </tr>\n",
       "    <tr>\n",
       "      <th>1891-01-04 12:00:00</th>\n",
       "      <td>0.391685</td>\n",
       "      <td>0.201403</td>\n",
       "      <td>1.499640</td>\n",
       "      <td>0.048860</td>\n",
       "      <td>3.620134</td>\n",
       "      <td>3.370363</td>\n",
       "      <td>0.359671</td>\n",
       "      <td>0.374058</td>\n",
       "      <td>0.144248</td>\n",
       "      <td>0.174370</td>\n",
       "      <td>...</td>\n",
       "      <td>b'North West England        '</td>\n",
       "      <td>b'South East England        '</td>\n",
       "      <td>b'South West England        '</td>\n",
       "      <td>b'West Midlands             '</td>\n",
       "      <td>b'West Scotland             '</td>\n",
       "      <td>b'Yorkshire and Humber      '</td>\n",
       "      <td>b'Channel Islands           '</td>\n",
       "      <td>b'Isle of Man               '</td>\n",
       "      <td>b'Northern Ireland          '</td>\n",
       "      <td>b'Wales                     '</td>\n",
       "    </tr>\n",
       "    <tr>\n",
       "      <th>1891-01-05 12:00:00</th>\n",
       "      <td>0.119878</td>\n",
       "      <td>1.337887</td>\n",
       "      <td>0.457400</td>\n",
       "      <td>0.031704</td>\n",
       "      <td>1.623150</td>\n",
       "      <td>0.835971</td>\n",
       "      <td>0.074624</td>\n",
       "      <td>0.457338</td>\n",
       "      <td>0.026676</td>\n",
       "      <td>0.129387</td>\n",
       "      <td>...</td>\n",
       "      <td>b'North West England        '</td>\n",
       "      <td>b'South East England        '</td>\n",
       "      <td>b'South West England        '</td>\n",
       "      <td>b'West Midlands             '</td>\n",
       "      <td>b'West Scotland             '</td>\n",
       "      <td>b'Yorkshire and Humber      '</td>\n",
       "      <td>b'Channel Islands           '</td>\n",
       "      <td>b'Isle of Man               '</td>\n",
       "      <td>b'Northern Ireland          '</td>\n",
       "      <td>b'Wales                     '</td>\n",
       "    </tr>\n",
       "  </tbody>\n",
       "</table>\n",
       "<p>5 rows × 48 columns</p>\n",
       "</div>"
      ],
      "text/plain": [
       "                          rainfall                                          \\\n",
       "region                          1         2         3         4         5    \n",
       "bnds time                                                                    \n",
       "0    1891-01-01 12:00:00  0.038207  0.062382  0.673353  0.015701  0.002181   \n",
       "     1891-01-02 12:00:00  0.007511  0.000349  0.748390  0.000024  1.680578   \n",
       "     1891-01-03 12:00:00  1.232766  1.738081  2.423451  1.926087  1.614585   \n",
       "     1891-01-04 12:00:00  0.391685  0.201403  1.499640  0.048860  3.620134   \n",
       "     1891-01-05 12:00:00  0.119878  1.337887  0.457400  0.031704  1.623150   \n",
       "\n",
       "                                                                            \\\n",
       "region                          6         7         8         9         10   \n",
       "bnds time                                                                    \n",
       "0    1891-01-01 12:00:00  0.992063  0.037144  0.340072  0.085441  0.009921   \n",
       "     1891-01-02 12:00:00  0.689566  0.812118  0.058602  0.727717  0.068994   \n",
       "     1891-01-03 12:00:00  2.943856  1.869059  2.326119  1.971196  1.495874   \n",
       "     1891-01-04 12:00:00  3.370363  0.359671  0.374058  0.144248  0.174370   \n",
       "     1891-01-05 12:00:00  0.835971  0.074624  0.457338  0.026676  0.129387   \n",
       "\n",
       "                          ...                     geo_region  \\\n",
       "region                    ...                             7    \n",
       "bnds time                 ...                                  \n",
       "0    1891-01-01 12:00:00  ...  b'North West England        '   \n",
       "     1891-01-02 12:00:00  ...  b'North West England        '   \n",
       "     1891-01-03 12:00:00  ...  b'North West England        '   \n",
       "     1891-01-04 12:00:00  ...  b'North West England        '   \n",
       "     1891-01-05 12:00:00  ...  b'North West England        '   \n",
       "\n",
       "                                                         \\\n",
       "region                                               8    \n",
       "bnds time                                                 \n",
       "0    1891-01-01 12:00:00  b'South East England        '   \n",
       "     1891-01-02 12:00:00  b'South East England        '   \n",
       "     1891-01-03 12:00:00  b'South East England        '   \n",
       "     1891-01-04 12:00:00  b'South East England        '   \n",
       "     1891-01-05 12:00:00  b'South East England        '   \n",
       "\n",
       "                                                         \\\n",
       "region                                               9    \n",
       "bnds time                                                 \n",
       "0    1891-01-01 12:00:00  b'South West England        '   \n",
       "     1891-01-02 12:00:00  b'South West England        '   \n",
       "     1891-01-03 12:00:00  b'South West England        '   \n",
       "     1891-01-04 12:00:00  b'South West England        '   \n",
       "     1891-01-05 12:00:00  b'South West England        '   \n",
       "\n",
       "                                                         \\\n",
       "region                                               10   \n",
       "bnds time                                                 \n",
       "0    1891-01-01 12:00:00  b'West Midlands             '   \n",
       "     1891-01-02 12:00:00  b'West Midlands             '   \n",
       "     1891-01-03 12:00:00  b'West Midlands             '   \n",
       "     1891-01-04 12:00:00  b'West Midlands             '   \n",
       "     1891-01-05 12:00:00  b'West Midlands             '   \n",
       "\n",
       "                                                         \\\n",
       "region                                               11   \n",
       "bnds time                                                 \n",
       "0    1891-01-01 12:00:00  b'West Scotland             '   \n",
       "     1891-01-02 12:00:00  b'West Scotland             '   \n",
       "     1891-01-03 12:00:00  b'West Scotland             '   \n",
       "     1891-01-04 12:00:00  b'West Scotland             '   \n",
       "     1891-01-05 12:00:00  b'West Scotland             '   \n",
       "\n",
       "                                                         \\\n",
       "region                                               12   \n",
       "bnds time                                                 \n",
       "0    1891-01-01 12:00:00  b'Yorkshire and Humber      '   \n",
       "     1891-01-02 12:00:00  b'Yorkshire and Humber      '   \n",
       "     1891-01-03 12:00:00  b'Yorkshire and Humber      '   \n",
       "     1891-01-04 12:00:00  b'Yorkshire and Humber      '   \n",
       "     1891-01-05 12:00:00  b'Yorkshire and Humber      '   \n",
       "\n",
       "                                                         \\\n",
       "region                                               13   \n",
       "bnds time                                                 \n",
       "0    1891-01-01 12:00:00  b'Channel Islands           '   \n",
       "     1891-01-02 12:00:00  b'Channel Islands           '   \n",
       "     1891-01-03 12:00:00  b'Channel Islands           '   \n",
       "     1891-01-04 12:00:00  b'Channel Islands           '   \n",
       "     1891-01-05 12:00:00  b'Channel Islands           '   \n",
       "\n",
       "                                                         \\\n",
       "region                                               14   \n",
       "bnds time                                                 \n",
       "0    1891-01-01 12:00:00  b'Isle of Man               '   \n",
       "     1891-01-02 12:00:00  b'Isle of Man               '   \n",
       "     1891-01-03 12:00:00  b'Isle of Man               '   \n",
       "     1891-01-04 12:00:00  b'Isle of Man               '   \n",
       "     1891-01-05 12:00:00  b'Isle of Man               '   \n",
       "\n",
       "                                                         \\\n",
       "region                                               15   \n",
       "bnds time                                                 \n",
       "0    1891-01-01 12:00:00  b'Northern Ireland          '   \n",
       "     1891-01-02 12:00:00  b'Northern Ireland          '   \n",
       "     1891-01-03 12:00:00  b'Northern Ireland          '   \n",
       "     1891-01-04 12:00:00  b'Northern Ireland          '   \n",
       "     1891-01-05 12:00:00  b'Northern Ireland          '   \n",
       "\n",
       "                                                         \n",
       "region                                               16  \n",
       "bnds time                                                \n",
       "0    1891-01-01 12:00:00  b'Wales                     '  \n",
       "     1891-01-02 12:00:00  b'Wales                     '  \n",
       "     1891-01-03 12:00:00  b'Wales                     '  \n",
       "     1891-01-04 12:00:00  b'Wales                     '  \n",
       "     1891-01-05 12:00:00  b'Wales                     '  \n",
       "\n",
       "[5 rows x 48 columns]"
      ]
     },
     "execution_count": 16,
     "metadata": {},
     "output_type": "execute_result"
    }
   ],
   "source": [
    "df_to_clean.unstack(level=1).head()"
   ]
  },
  {
   "cell_type": "code",
   "execution_count": 17,
   "metadata": {},
   "outputs": [],
   "source": [
    "#Drop Unwanted columns and indecies \n",
    "df_to_clean2 = df_to_clean.unstack(level=1).droplevel(0).drop(columns=['time_bnds','geo_region']).droplevel(0,axis=1)"
   ]
  },
  {
   "cell_type": "code",
   "execution_count": 18,
   "metadata": {},
   "outputs": [
    {
     "data": {
      "text/plain": [
       "region  time               \n",
       "1       1891-01-01 12:00:00    0.038207\n",
       "        1891-01-02 12:00:00    0.007511\n",
       "        1891-01-03 12:00:00    1.232766\n",
       "        1891-01-04 12:00:00    0.391685\n",
       "        1891-01-05 12:00:00    0.119878\n",
       "                                 ...   \n",
       "16      2019-12-27 12:00:00    0.708639\n",
       "        2019-12-28 12:00:00    0.061756\n",
       "        2019-12-29 12:00:00    0.040950\n",
       "        2019-12-30 12:00:00    0.122753\n",
       "        2019-12-31 12:00:00    0.042822\n",
       "Length: 1507712, dtype: float64"
      ]
     },
     "execution_count": 18,
     "metadata": {},
     "output_type": "execute_result"
    }
   ],
   "source": [
    "df_to_clean2.unstack()"
   ]
  },
  {
   "cell_type": "code",
   "execution_count": 19,
   "metadata": {},
   "outputs": [
    {
     "data": {
      "text/plain": [
       "(94232, 16)"
      ]
     },
     "execution_count": 19,
     "metadata": {},
     "output_type": "execute_result"
    }
   ],
   "source": [
    "df_to_clean2.shape"
   ]
  },
  {
   "cell_type": "code",
   "execution_count": 20,
   "metadata": {},
   "outputs": [],
   "source": [
    "#Renaming the columns \n",
    "df_to_clean2.columns = clean_col_names "
   ]
  },
  {
   "cell_type": "code",
   "execution_count": 21,
   "metadata": {},
   "outputs": [
    {
     "name": "stdout",
     "output_type": "stream",
     "text": [
      "<class 'pandas.core.frame.DataFrame'>\n",
      "DatetimeIndex: 94232 entries, 1891-01-01 12:00:00 to 2019-12-31 12:00:00\n",
      "Data columns (total 16 columns):\n",
      " #   Column                Non-Null Count  Dtype  \n",
      "---  ------                --------------  -----  \n",
      " 0   East Midlands         94232 non-null  float64\n",
      " 1   East of England       94232 non-null  float64\n",
      " 2   East Scotland         94232 non-null  float64\n",
      " 3   London                94232 non-null  float64\n",
      " 4   North East England    94232 non-null  float64\n",
      " 5   North Scotland        94232 non-null  float64\n",
      " 6   North West England    94232 non-null  float64\n",
      " 7   South East England    94232 non-null  float64\n",
      " 8   South West England    94232 non-null  float64\n",
      " 9   West Midlands         94232 non-null  float64\n",
      " 10  West Scotland         94232 non-null  float64\n",
      " 11  Yorkshire and Humber  94232 non-null  float64\n",
      " 12  Channel Islands       94232 non-null  float64\n",
      " 13  Isle of Man           94232 non-null  float64\n",
      " 14  Northern Ireland      94232 non-null  float64\n",
      " 15  Wales                 94232 non-null  float64\n",
      "dtypes: float64(16)\n",
      "memory usage: 14.7 MB\n"
     ]
    }
   ],
   "source": [
    "df_to_clean2.info()"
   ]
  },
  {
   "cell_type": "code",
   "execution_count": 22,
   "metadata": {},
   "outputs": [
    {
     "data": {
      "text/html": [
       "<div>\n",
       "<style scoped>\n",
       "    .dataframe tbody tr th:only-of-type {\n",
       "        vertical-align: middle;\n",
       "    }\n",
       "\n",
       "    .dataframe tbody tr th {\n",
       "        vertical-align: top;\n",
       "    }\n",
       "\n",
       "    .dataframe thead th {\n",
       "        text-align: right;\n",
       "    }\n",
       "</style>\n",
       "<table border=\"1\" class=\"dataframe\">\n",
       "  <thead>\n",
       "    <tr style=\"text-align: right;\">\n",
       "      <th></th>\n",
       "      <th>East Midlands</th>\n",
       "      <th>East of England</th>\n",
       "      <th>East Scotland</th>\n",
       "      <th>London</th>\n",
       "      <th>North East England</th>\n",
       "      <th>North Scotland</th>\n",
       "      <th>North West England</th>\n",
       "      <th>South East England</th>\n",
       "      <th>South West England</th>\n",
       "      <th>West Midlands</th>\n",
       "      <th>West Scotland</th>\n",
       "      <th>Yorkshire and Humber</th>\n",
       "      <th>Channel Islands</th>\n",
       "      <th>Isle of Man</th>\n",
       "      <th>Northern Ireland</th>\n",
       "      <th>Wales</th>\n",
       "    </tr>\n",
       "    <tr>\n",
       "      <th>time</th>\n",
       "      <th></th>\n",
       "      <th></th>\n",
       "      <th></th>\n",
       "      <th></th>\n",
       "      <th></th>\n",
       "      <th></th>\n",
       "      <th></th>\n",
       "      <th></th>\n",
       "      <th></th>\n",
       "      <th></th>\n",
       "      <th></th>\n",
       "      <th></th>\n",
       "      <th></th>\n",
       "      <th></th>\n",
       "      <th></th>\n",
       "      <th></th>\n",
       "    </tr>\n",
       "  </thead>\n",
       "  <tbody>\n",
       "    <tr>\n",
       "      <th>1891-01-01 12:00:00</th>\n",
       "      <td>0.038207</td>\n",
       "      <td>0.062382</td>\n",
       "      <td>0.673353</td>\n",
       "      <td>0.015701</td>\n",
       "      <td>0.002181</td>\n",
       "      <td>0.992063</td>\n",
       "      <td>0.037144</td>\n",
       "      <td>0.340072</td>\n",
       "      <td>0.085441</td>\n",
       "      <td>0.009921</td>\n",
       "      <td>2.071759</td>\n",
       "      <td>0.002048</td>\n",
       "      <td>9.969210e+36</td>\n",
       "      <td>0.007126</td>\n",
       "      <td>1.547232</td>\n",
       "      <td>0.018642</td>\n",
       "    </tr>\n",
       "    <tr>\n",
       "      <th>1891-01-02 12:00:00</th>\n",
       "      <td>0.007511</td>\n",
       "      <td>0.000349</td>\n",
       "      <td>0.748390</td>\n",
       "      <td>0.000024</td>\n",
       "      <td>1.680578</td>\n",
       "      <td>0.689566</td>\n",
       "      <td>0.812118</td>\n",
       "      <td>0.058602</td>\n",
       "      <td>0.727717</td>\n",
       "      <td>0.068994</td>\n",
       "      <td>0.601028</td>\n",
       "      <td>0.491786</td>\n",
       "      <td>9.969210e+36</td>\n",
       "      <td>0.371345</td>\n",
       "      <td>0.635591</td>\n",
       "      <td>0.334446</td>\n",
       "    </tr>\n",
       "    <tr>\n",
       "      <th>1891-01-03 12:00:00</th>\n",
       "      <td>1.232766</td>\n",
       "      <td>1.738081</td>\n",
       "      <td>2.423451</td>\n",
       "      <td>1.926087</td>\n",
       "      <td>1.614585</td>\n",
       "      <td>2.943856</td>\n",
       "      <td>1.869059</td>\n",
       "      <td>2.326119</td>\n",
       "      <td>1.971196</td>\n",
       "      <td>1.495874</td>\n",
       "      <td>6.092219</td>\n",
       "      <td>2.017263</td>\n",
       "      <td>9.969210e+36</td>\n",
       "      <td>0.056683</td>\n",
       "      <td>2.626677</td>\n",
       "      <td>4.142716</td>\n",
       "    </tr>\n",
       "    <tr>\n",
       "      <th>1891-01-04 12:00:00</th>\n",
       "      <td>0.391685</td>\n",
       "      <td>0.201403</td>\n",
       "      <td>1.499640</td>\n",
       "      <td>0.048860</td>\n",
       "      <td>3.620134</td>\n",
       "      <td>3.370363</td>\n",
       "      <td>0.359671</td>\n",
       "      <td>0.374058</td>\n",
       "      <td>0.144248</td>\n",
       "      <td>0.174370</td>\n",
       "      <td>0.115535</td>\n",
       "      <td>1.922366</td>\n",
       "      <td>9.969210e+36</td>\n",
       "      <td>0.002830</td>\n",
       "      <td>0.000925</td>\n",
       "      <td>0.446111</td>\n",
       "    </tr>\n",
       "    <tr>\n",
       "      <th>1891-01-05 12:00:00</th>\n",
       "      <td>0.119878</td>\n",
       "      <td>1.337887</td>\n",
       "      <td>0.457400</td>\n",
       "      <td>0.031704</td>\n",
       "      <td>1.623150</td>\n",
       "      <td>0.835971</td>\n",
       "      <td>0.074624</td>\n",
       "      <td>0.457338</td>\n",
       "      <td>0.026676</td>\n",
       "      <td>0.129387</td>\n",
       "      <td>0.026487</td>\n",
       "      <td>1.080433</td>\n",
       "      <td>9.969210e+36</td>\n",
       "      <td>0.000232</td>\n",
       "      <td>0.000000</td>\n",
       "      <td>0.015325</td>\n",
       "    </tr>\n",
       "  </tbody>\n",
       "</table>\n",
       "</div>"
      ],
      "text/plain": [
       "                     East Midlands  East of England  East Scotland   London   \\\n",
       "time                                                                           \n",
       "1891-01-01 12:00:00       0.038207         0.062382       0.673353  0.015701   \n",
       "1891-01-02 12:00:00       0.007511         0.000349       0.748390  0.000024   \n",
       "1891-01-03 12:00:00       1.232766         1.738081       2.423451  1.926087   \n",
       "1891-01-04 12:00:00       0.391685         0.201403       1.499640  0.048860   \n",
       "1891-01-05 12:00:00       0.119878         1.337887       0.457400  0.031704   \n",
       "\n",
       "                     North East England  North Scotland  North West England  \\\n",
       "time                                                                          \n",
       "1891-01-01 12:00:00            0.002181        0.992063            0.037144   \n",
       "1891-01-02 12:00:00            1.680578        0.689566            0.812118   \n",
       "1891-01-03 12:00:00            1.614585        2.943856            1.869059   \n",
       "1891-01-04 12:00:00            3.620134        3.370363            0.359671   \n",
       "1891-01-05 12:00:00            1.623150        0.835971            0.074624   \n",
       "\n",
       "                     South East England  South West England  West Midlands  \\\n",
       "time                                                                         \n",
       "1891-01-01 12:00:00            0.340072            0.085441       0.009921   \n",
       "1891-01-02 12:00:00            0.058602            0.727717       0.068994   \n",
       "1891-01-03 12:00:00            2.326119            1.971196       1.495874   \n",
       "1891-01-04 12:00:00            0.374058            0.144248       0.174370   \n",
       "1891-01-05 12:00:00            0.457338            0.026676       0.129387   \n",
       "\n",
       "                     West Scotland  Yorkshire and Humber  Channel Islands  \\\n",
       "time                                                                        \n",
       "1891-01-01 12:00:00       2.071759              0.002048     9.969210e+36   \n",
       "1891-01-02 12:00:00       0.601028              0.491786     9.969210e+36   \n",
       "1891-01-03 12:00:00       6.092219              2.017263     9.969210e+36   \n",
       "1891-01-04 12:00:00       0.115535              1.922366     9.969210e+36   \n",
       "1891-01-05 12:00:00       0.026487              1.080433     9.969210e+36   \n",
       "\n",
       "                     Isle of Man  Northern Ireland    Wales   \n",
       "time                                                          \n",
       "1891-01-01 12:00:00     0.007126          1.547232  0.018642  \n",
       "1891-01-02 12:00:00     0.371345          0.635591  0.334446  \n",
       "1891-01-03 12:00:00     0.056683          2.626677  4.142716  \n",
       "1891-01-04 12:00:00     0.002830          0.000925  0.446111  \n",
       "1891-01-05 12:00:00     0.000232          0.000000  0.015325  "
      ]
     },
     "execution_count": 22,
     "metadata": {},
     "output_type": "execute_result"
    }
   ],
   "source": [
    "df_to_clean2.head()"
   ]
  },
  {
   "cell_type": "code",
   "execution_count": 23,
   "metadata": {},
   "outputs": [],
   "source": [
    "df_final = df_to_clean2.loc['2011-05-27':]"
   ]
  },
  {
   "cell_type": "code",
   "execution_count": 24,
   "metadata": {},
   "outputs": [],
   "source": [
    "df_final = df_final.resample('D').mean()"
   ]
  },
  {
   "cell_type": "code",
   "execution_count": 25,
   "metadata": {},
   "outputs": [
    {
     "data": {
      "text/html": [
       "<div>\n",
       "<style scoped>\n",
       "    .dataframe tbody tr th:only-of-type {\n",
       "        vertical-align: middle;\n",
       "    }\n",
       "\n",
       "    .dataframe tbody tr th {\n",
       "        vertical-align: top;\n",
       "    }\n",
       "\n",
       "    .dataframe thead th {\n",
       "        text-align: right;\n",
       "    }\n",
       "</style>\n",
       "<table border=\"1\" class=\"dataframe\">\n",
       "  <thead>\n",
       "    <tr style=\"text-align: right;\">\n",
       "      <th></th>\n",
       "      <th>East Midlands</th>\n",
       "      <th>East of England</th>\n",
       "      <th>East Scotland</th>\n",
       "      <th>London</th>\n",
       "      <th>North East England</th>\n",
       "      <th>North Scotland</th>\n",
       "      <th>North West England</th>\n",
       "      <th>South East England</th>\n",
       "      <th>South West England</th>\n",
       "      <th>West Midlands</th>\n",
       "      <th>West Scotland</th>\n",
       "      <th>Yorkshire and Humber</th>\n",
       "      <th>Channel Islands</th>\n",
       "      <th>Isle of Man</th>\n",
       "      <th>Northern Ireland</th>\n",
       "      <th>Wales</th>\n",
       "    </tr>\n",
       "    <tr>\n",
       "      <th>time</th>\n",
       "      <th></th>\n",
       "      <th></th>\n",
       "      <th></th>\n",
       "      <th></th>\n",
       "      <th></th>\n",
       "      <th></th>\n",
       "      <th></th>\n",
       "      <th></th>\n",
       "      <th></th>\n",
       "      <th></th>\n",
       "      <th></th>\n",
       "      <th></th>\n",
       "      <th></th>\n",
       "      <th></th>\n",
       "      <th></th>\n",
       "      <th></th>\n",
       "    </tr>\n",
       "  </thead>\n",
       "  <tbody>\n",
       "    <tr>\n",
       "      <th>2011-05-27</th>\n",
       "      <td>0.338427</td>\n",
       "      <td>0.568244</td>\n",
       "      <td>2.518522</td>\n",
       "      <td>0.072591</td>\n",
       "      <td>1.392693</td>\n",
       "      <td>8.456431</td>\n",
       "      <td>6.144072</td>\n",
       "      <td>0.052724</td>\n",
       "      <td>0.117977</td>\n",
       "      <td>0.169313</td>\n",
       "      <td>6.840196</td>\n",
       "      <td>1.580684</td>\n",
       "      <td>9.969210e+36</td>\n",
       "      <td>1.218085</td>\n",
       "      <td>1.982118</td>\n",
       "      <td>3.914070</td>\n",
       "    </tr>\n",
       "    <tr>\n",
       "      <th>2011-05-28</th>\n",
       "      <td>0.168932</td>\n",
       "      <td>0.050861</td>\n",
       "      <td>1.936929</td>\n",
       "      <td>0.015771</td>\n",
       "      <td>2.072547</td>\n",
       "      <td>7.949044</td>\n",
       "      <td>3.987347</td>\n",
       "      <td>0.028282</td>\n",
       "      <td>0.923930</td>\n",
       "      <td>0.345130</td>\n",
       "      <td>7.828783</td>\n",
       "      <td>1.724447</td>\n",
       "      <td>9.969210e+36</td>\n",
       "      <td>0.938112</td>\n",
       "      <td>2.611878</td>\n",
       "      <td>2.481342</td>\n",
       "    </tr>\n",
       "    <tr>\n",
       "      <th>2011-05-29</th>\n",
       "      <td>3.626871</td>\n",
       "      <td>0.008499</td>\n",
       "      <td>1.144060</td>\n",
       "      <td>0.002411</td>\n",
       "      <td>0.568497</td>\n",
       "      <td>7.769322</td>\n",
       "      <td>2.521825</td>\n",
       "      <td>0.047888</td>\n",
       "      <td>2.951616</td>\n",
       "      <td>7.879865</td>\n",
       "      <td>2.131571</td>\n",
       "      <td>3.708652</td>\n",
       "      <td>9.969210e+36</td>\n",
       "      <td>0.168776</td>\n",
       "      <td>0.160491</td>\n",
       "      <td>7.313690</td>\n",
       "    </tr>\n",
       "    <tr>\n",
       "      <th>2011-05-30</th>\n",
       "      <td>7.266138</td>\n",
       "      <td>5.242294</td>\n",
       "      <td>1.743907</td>\n",
       "      <td>1.622173</td>\n",
       "      <td>0.777751</td>\n",
       "      <td>2.651348</td>\n",
       "      <td>2.151121</td>\n",
       "      <td>2.372488</td>\n",
       "      <td>2.533854</td>\n",
       "      <td>4.613446</td>\n",
       "      <td>0.941094</td>\n",
       "      <td>3.015598</td>\n",
       "      <td>9.969210e+36</td>\n",
       "      <td>0.414628</td>\n",
       "      <td>2.574429</td>\n",
       "      <td>1.864475</td>\n",
       "    </tr>\n",
       "    <tr>\n",
       "      <th>2011-05-31</th>\n",
       "      <td>0.059108</td>\n",
       "      <td>0.751049</td>\n",
       "      <td>1.178030</td>\n",
       "      <td>0.218828</td>\n",
       "      <td>0.077770</td>\n",
       "      <td>14.165608</td>\n",
       "      <td>0.113211</td>\n",
       "      <td>0.126262</td>\n",
       "      <td>0.056183</td>\n",
       "      <td>0.059839</td>\n",
       "      <td>2.064092</td>\n",
       "      <td>0.024849</td>\n",
       "      <td>9.969210e+36</td>\n",
       "      <td>0.022508</td>\n",
       "      <td>0.237662</td>\n",
       "      <td>0.081742</td>\n",
       "    </tr>\n",
       "  </tbody>\n",
       "</table>\n",
       "</div>"
      ],
      "text/plain": [
       "            East Midlands  East of England  East Scotland   London   \\\n",
       "time                                                                  \n",
       "2011-05-27       0.338427         0.568244       2.518522  0.072591   \n",
       "2011-05-28       0.168932         0.050861       1.936929  0.015771   \n",
       "2011-05-29       3.626871         0.008499       1.144060  0.002411   \n",
       "2011-05-30       7.266138         5.242294       1.743907  1.622173   \n",
       "2011-05-31       0.059108         0.751049       1.178030  0.218828   \n",
       "\n",
       "            North East England  North Scotland  North West England  \\\n",
       "time                                                                 \n",
       "2011-05-27            1.392693        8.456431            6.144072   \n",
       "2011-05-28            2.072547        7.949044            3.987347   \n",
       "2011-05-29            0.568497        7.769322            2.521825   \n",
       "2011-05-30            0.777751        2.651348            2.151121   \n",
       "2011-05-31            0.077770       14.165608            0.113211   \n",
       "\n",
       "            South East England  South West England  West Midlands  \\\n",
       "time                                                                \n",
       "2011-05-27            0.052724            0.117977       0.169313   \n",
       "2011-05-28            0.028282            0.923930       0.345130   \n",
       "2011-05-29            0.047888            2.951616       7.879865   \n",
       "2011-05-30            2.372488            2.533854       4.613446   \n",
       "2011-05-31            0.126262            0.056183       0.059839   \n",
       "\n",
       "            West Scotland  Yorkshire and Humber  Channel Islands  Isle of Man  \\\n",
       "time                                                                            \n",
       "2011-05-27       6.840196              1.580684     9.969210e+36     1.218085   \n",
       "2011-05-28       7.828783              1.724447     9.969210e+36     0.938112   \n",
       "2011-05-29       2.131571              3.708652     9.969210e+36     0.168776   \n",
       "2011-05-30       0.941094              3.015598     9.969210e+36     0.414628   \n",
       "2011-05-31       2.064092              0.024849     9.969210e+36     0.022508   \n",
       "\n",
       "            Northern Ireland    Wales   \n",
       "time                                    \n",
       "2011-05-27          1.982118  3.914070  \n",
       "2011-05-28          2.611878  2.481342  \n",
       "2011-05-29          0.160491  7.313690  \n",
       "2011-05-30          2.574429  1.864475  \n",
       "2011-05-31          0.237662  0.081742  "
      ]
     },
     "execution_count": 25,
     "metadata": {},
     "output_type": "execute_result"
    }
   ],
   "source": [
    "df_final.head()"
   ]
  },
  {
   "cell_type": "code",
   "execution_count": 26,
   "metadata": {},
   "outputs": [
    {
     "name": "stdout",
     "output_type": "stream",
     "text": [
      "<class 'pandas.core.frame.DataFrame'>\n",
      "DatetimeIndex: 3141 entries, 2011-05-27 to 2019-12-31\n",
      "Freq: D\n",
      "Data columns (total 16 columns):\n",
      " #   Column                Non-Null Count  Dtype  \n",
      "---  ------                --------------  -----  \n",
      " 0   East Midlands         3141 non-null   float64\n",
      " 1   East of England       3141 non-null   float64\n",
      " 2   East Scotland         3141 non-null   float64\n",
      " 3   London                3141 non-null   float64\n",
      " 4   North East England    3141 non-null   float64\n",
      " 5   North Scotland        3141 non-null   float64\n",
      " 6   North West England    3141 non-null   float64\n",
      " 7   South East England    3141 non-null   float64\n",
      " 8   South West England    3141 non-null   float64\n",
      " 9   West Midlands         3141 non-null   float64\n",
      " 10  West Scotland         3141 non-null   float64\n",
      " 11  Yorkshire and Humber  3141 non-null   float64\n",
      " 12  Channel Islands       3141 non-null   float64\n",
      " 13  Isle of Man           3141 non-null   float64\n",
      " 14  Northern Ireland      3141 non-null   float64\n",
      " 15  Wales                 3141 non-null   float64\n",
      "dtypes: float64(16)\n",
      "memory usage: 417.2 KB\n"
     ]
    }
   ],
   "source": [
    "df_final.info()"
   ]
  },
  {
   "cell_type": "code",
   "execution_count": 27,
   "metadata": {},
   "outputs": [],
   "source": [
    "df_final['Month'] = df_final.index.map(lambda x: x.month)\n",
    "df_final['Day_of_week'] = df_final.index.map(lambda x: x.strftime('%A'))"
   ]
  },
  {
   "cell_type": "code",
   "execution_count": 28,
   "metadata": {},
   "outputs": [],
   "source": [
    "df_final.columns = [col.replace(' ','') if col == 'London ' or col == 'Wales ' in col else col.replace(' ','_') for col in df_final.columns ]"
   ]
  },
  {
   "cell_type": "code",
   "execution_count": 29,
   "metadata": {},
   "outputs": [
    {
     "data": {
      "text/plain": [
       "Index(['East_Midlands', 'East_of_England', 'East_Scotland', 'London',\n",
       "       'North_East_England', 'North_Scotland', 'North_West_England',\n",
       "       'South_East_England', 'South_West_England', 'West_Midlands',\n",
       "       'West_Scotland', 'Yorkshire_and_Humber', 'Channel_Islands',\n",
       "       'Isle_of_Man', 'Northern_Ireland', 'Wales', 'Month', 'Day_of_week'],\n",
       "      dtype='object')"
      ]
     },
     "execution_count": 29,
     "metadata": {},
     "output_type": "execute_result"
    }
   ],
   "source": [
    "df_final.columns"
   ]
  },
  {
   "cell_type": "code",
   "execution_count": 30,
   "metadata": {},
   "outputs": [],
   "source": [
    "#DROP COLUMN WITH STRANGE VALUES\n",
    "df_final.drop(columns=['Channel_Islands'],inplace=True)"
   ]
  },
  {
   "cell_type": "code",
   "execution_count": 36,
   "metadata": {},
   "outputs": [
    {
     "data": {
      "text/plain": [
       "<AxesSubplot:>"
      ]
     },
     "execution_count": 36,
     "metadata": {},
     "output_type": "execute_result"
    },
    {
     "data": {
      "image/png": "[encoded data removed]",
      "text/plain": [
       "<Figure size 432x288 with 1 Axes>"
      ]
     },
     "metadata": {
      "needs_background": "light"
     },
     "output_type": "display_data"
    }
   ],
   "source": [
    "df_final.boxplot()"
   ]
  },
  {
   "cell_type": "code",
   "execution_count": 68,
   "metadata": {
    "scrolled": true
   },
   "outputs": [
    {
     "data": {
      "image/png": "[encoded data removed]",
      "text/plain": [
       "<Figure size 432x288 with 1 Axes>"
      ]
     },
     "metadata": {
      "needs_background": "light"
     },
     "output_type": "display_data"
    },
    {
     "data": {
      "image/png": "[encoded data removed]",
      "text/plain": [
       "<Figure size 432x288 with 1 Axes>"
      ]
     },
     "metadata": {
      "needs_background": "light"
     },
     "output_type": "display_data"
    },
    {
     "data": {
      "image/png": "[encoded data removed]",
      "text/plain": [
       "<Figure size 432x288 with 1 Axes>"
      ]
     },
     "metadata": {
      "needs_background": "light"
     },
     "output_type": "display_data"
    },
    {
     "data": {
      "image/png": "[encoded data removed]",
      "text/plain": [
       "<Figure size 432x288 with 1 Axes>"
      ]
     },
     "metadata": {
      "needs_background": "light"
     },
     "output_type": "display_data"
    },
    {
     "data": {
      "image/png": "[encoded data removed]",
      "text/plain": [
       "<Figure size 432x288 with 1 Axes>"
      ]
     },
     "metadata": {
      "needs_background": "light"
     },
     "output_type": "display_data"
    },
    {
     "data": {
      "image/png": "[encoded data removed]",
      "text/plain": [
       "<Figure size 432x288 with 1 Axes>"
      ]
     },
     "metadata": {
      "needs_background": "light"
     },
     "output_type": "display_data"
    },
    {
     "data": {
      "image/png": "[encoded data removed]",
      "text/plain": [
       "<Figure size 432x288 with 1 Axes>"
      ]
     },
     "metadata": {
      "needs_background": "light"
     },
     "output_type": "display_data"
    },
    {
     "data": {
      "image/png": "[encoded data removed]",
      "text/plain": [
       "<Figure size 432x288 with 1 Axes>"
      ]
     },
     "metadata": {
      "needs_background": "light"
     },
     "output_type": "display_data"
    },
    {
     "data": {
      "image/png": "[encoded data removed]",
      "text/plain": [
       "<Figure size 432x288 with 1 Axes>"
      ]
     },
     "metadata": {
      "needs_background": "light"
     },
     "output_type": "display_data"
    },
    {
     "data": {
      "image/png": "[encoded data removed]",
      "text/plain": [
       "<Figure size 432x288 with 1 Axes>"
      ]
     },
     "metadata": {
      "needs_background": "light"
     },
     "output_type": "display_data"
    },
    {
     "data": {
      "image/png": "[encoded data removed]",
      "text/plain": [
       "<Figure size 432x288 with 1 Axes>"
      ]
     },
     "metadata": {
      "needs_background": "light"
     },
     "output_type": "display_data"
    },
    {
     "data": {
      "image/png": "[encoded data removed]",
      "text/plain": [
       "<Figure size 432x288 with 1 Axes>"
      ]
     },
     "metadata": {
      "needs_background": "light"
     },
     "output_type": "display_data"
    },
    {
     "data": {
      "image/png": "[encoded data removed]",
      "text/plain": [
       "<Figure size 432x288 with 1 Axes>"
      ]
     },
     "metadata": {
      "needs_background": "light"
     },
     "output_type": "display_data"
    },
    {
     "data": {
      "image/png": "[encoded data removed]",
      "text/plain": [
       "<Figure size 432x288 with 1 Axes>"
      ]
     },
     "metadata": {
      "needs_background": "light"
     },
     "output_type": "display_data"
    },
    {
     "data": {
      "image/png": "[encoded data removed]",
      "text/plain": [
       "<Figure size 432x288 with 1 Axes>"
      ]
     },
     "metadata": {
      "needs_background": "light"
     },
     "output_type": "display_data"
    }
   ],
   "source": [
    "for col in df_final.columns[:-2]:\n",
    "    df_final[col].hist(bins=20)\n",
    "    plt.title(col+' Rainfall')\n",
    "    plt.show()"
   ]
  },
  {
   "cell_type": "code",
   "execution_count": null,
   "metadata": {},
   "outputs": [],
   "source": []
  }
 ],
 "metadata": {
  "kernelspec": {
   "display_name": "Python 3",
   "language": "python",
   "name": "python3"
  },
  "language_info": {
   "codemirror_mode": {
    "name": "ipython",
    "version": 3
   },
   "file_extension": ".py",
   "mimetype": "text/x-python",
   "name": "python",
   "nbconvert_exporter": "python",
   "pygments_lexer": "ipython3",
   "version": "3.8.5"
  }
 },
 "nbformat": 4,
 "nbformat_minor": 4
}
